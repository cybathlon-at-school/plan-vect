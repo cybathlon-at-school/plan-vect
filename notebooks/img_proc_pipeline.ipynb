{
 "cells": [
  {
   "cell_type": "code",
   "execution_count": null,
   "metadata": {},
   "outputs": [],
   "source": [
    "%load_ext autoreload\n",
    "%autoreload 2\n",
    "# %load_ext memory_profiler\n",
    "%matplotlib inline\n",
    "from context import planvec\n",
    "import os\n",
    "import matplotlib.pyplot as plt\n",
    "from planvec.common import PROJECT_ROOT_PATH"
   ]
  },
  {
   "cell_type": "code",
   "execution_count": null,
   "metadata": {},
   "outputs": [],
   "source": [
    "ASSETS_DIR      = os.path.join(PROJECT_ROOT_PATH, 'test', 'assets')\n",
    "# INPUT_IMAGE     = 'gripper_foto.jpg'\n",
    "INPUT_IMAGE     = 'fileworks.jpeg'\n",
    "OUTPUT_PDF_NAME = 'sample_output.pdf'\n",
    "USE_CUSTOM_FILE = True\n",
    "CUSTOM_PATH     = '/home/matt/code/planvec/data/2019-11-05/matt/0_matt_2019-11-05_11-33-54-401431_original.jpeg'\n",
    "\n",
    "if USE_CUSTOM_FILE:\n",
    "    input_img = planvec.io.read_img_full_path(CUSTOM_PATH, to_bgr=True)\n",
    "else:\n",
    "    input_img = planvec.io.read_img(ASSETS_DIR, INPUT_IMAGE, to_bgr=True)\n",
    "planvec.vizualization.imshow(input_img, axis='on', figsize=(18,12), img_space='BGR')"
   ]
  },
  {
   "cell_type": "code",
   "execution_count": null,
   "metadata": {
    "scrolled": false
   },
   "outputs": [],
   "source": [
    "from planvec.pipeline import run_pipeline\n",
    "from planvec import vizualization\n",
    "\n",
    "out_fig, out_ax = vizualization.setup_figure()\n",
    "ax, output_img = run_pipeline(input_img, out_ax, visualize_steps=True, verbose=True, return_fig=True)\n",
    "plt.show()"
   ]
  },
  {
   "cell_type": "code",
   "execution_count": null,
   "metadata": {},
   "outputs": [],
   "source": [
    "out_fig"
   ]
  },
  {
   "cell_type": "code",
   "execution_count": null,
   "metadata": {},
   "outputs": [],
   "source": [
    "from planvec.common import DATA_DIR_PATH\n",
    "def save_output_fig(out_fig, path=os.path.join(DATA_DIR_PATH, 'matt_final.pdf')):\n",
    "    out_fig.tight_layout(pad=0)\n",
    "    out_fig.savefig(path, bbox_inches='tight', pad_inches=0)\n",
    "if True:\n",
    "    save_output_fig(out_fig)"
   ]
  }
 ],
 "metadata": {
  "kernelspec": {
   "display_name": "Python 3",
   "language": "python",
   "name": "python3"
  },
  "language_info": {
   "codemirror_mode": {
    "name": "ipython",
    "version": 3
   },
   "file_extension": ".py",
   "mimetype": "text/x-python",
   "name": "python",
   "nbconvert_exporter": "python",
   "pygments_lexer": "ipython3",
   "version": "3.6.9"
  }
 },
 "nbformat": 4,
 "nbformat_minor": 2
}
