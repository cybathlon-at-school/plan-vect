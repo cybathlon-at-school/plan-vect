{
 "cells": [
  {
   "cell_type": "code",
   "execution_count": null,
   "metadata": {},
   "outputs": [],
   "source": [
    "%load_ext autoreload\n",
    "%autoreload 2\n",
    "# %load_ext memory_profiler\n",
    "%matplotlib inline\n",
    "from context import planvec\n",
    "import os\n",
    "from pprint import pprint\n",
    "import matplotlib.pyplot as plt\n",
    "from planvec.common import PROJECT_ROOT_PATH"
   ]
  },
  {
   "cell_type": "code",
   "execution_count": null,
   "metadata": {},
   "outputs": [],
   "source": [
    "ASSETS_DIR      = os.path.join(PROJECT_ROOT_PATH, 'test', 'assets')\n",
    "# INPUT_IMAGE     = 'gripper_foto.jpg'\n",
    "INPUT_IMAGE     = 'fileworks.jpeg'\n",
    "OUTPUT_PDF_NAME = 'sample_output.pdf'\n",
    "USE_CUSTOM_FILE = True\n",
    "CUSTOM_PATH     = '/home/matt/code/planvec/data/2019-11-06/test/0_test_2019-11-06_16-40-06-111362_original.jpeg'\n",
    "CUSTOM_PATH1     = '/home/matt/code/planvec/data/2019-11-11/kroko/0_kroko_2019-11-11_18-06-41-252375_original.jpeg'\n",
    "\n",
    "if USE_CUSTOM_FILE:\n",
    "    input_img = planvec.io.read_img_full_path(CUSTOM_PATH1, to_bgr=True)\n",
    "else:\n",
    "    input_img = planvec.io.read_img(ASSETS_DIR, INPUT_IMAGE, to_bgr=True)\n",
    "planvec.vizualization.imshow(input_img, axis='on', figsize=(18,12), img_space='BGR')"
   ]
  },
  {
   "cell_type": "code",
   "execution_count": null,
   "metadata": {
    "scrolled": false
   },
   "outputs": [],
   "source": [
    "from planvec.pipeline import run_pipeline\n",
    "from planvec import vizualization\n",
    "from planvec.utils.timing import print_avg_timings_sorted, reset_timing\n",
    "\n",
    "out_fig, out_ax = vizualization.setup_figure()\n",
    "input_imgs = []\n",
    "for path in [CUSTOM_PATH1]:\n",
    "    input_imgs.append(planvec.io.read_img_full_path(path, to_bgr=True))\n",
    "for img in input_imgs:\n",
    "    %time ax, img = run_pipeline(img, out_ax, visualize_steps=False, verbose=False, return_fig=True)\n",
    "    print_avg_timings_sorted()\n",
    "    reset_timing()"
   ]
  },
  {
   "cell_type": "code",
   "execution_count": null,
   "metadata": {},
   "outputs": [],
   "source": [
    "from planvec.common import DATA_DIR_PATH\n",
    "def save_output_fig(out_fig, path=os.path.join(DATA_DIR_PATH, 'matt_final.pdf')):\n",
    "    out_fig.tight_layout(pad=0)\n",
    "    out_fig.savefig(path, bbox_inches='tight', pad_inches=0)\n",
    "if False:\n",
    "    save_output_fig(out_fig)"
   ]
  }
 ],
 "metadata": {
  "kernelspec": {
   "display_name": "Python 3",
   "language": "python",
   "name": "python3"
  },
  "language_info": {
   "codemirror_mode": {
    "name": "ipython",
    "version": 3
   },
   "file_extension": ".py",
   "mimetype": "text/x-python",
   "name": "python",
   "nbconvert_exporter": "python",
   "pygments_lexer": "ipython3",
   "version": "3.6.9"
  }
 },
 "nbformat": 4,
 "nbformat_minor": 2
}
